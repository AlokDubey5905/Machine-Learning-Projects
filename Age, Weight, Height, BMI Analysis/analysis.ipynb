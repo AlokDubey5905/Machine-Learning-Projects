{
 "cells": [
  {
   "cell_type": "code",
   "execution_count": 1,
   "metadata": {},
   "outputs": [],
   "source": [
    "import pandas as pd\n",
    "import numpy as np\n",
    "from sklearn.preprocessing import MinMaxScaler\n",
    "import category_encoders as ce\n",
    "import seaborn as sns\n",
    "import matplotlib.pyplot as plt\n",
    "from sklearn.model_selection import train_test_split"
   ]
  },
  {
   "cell_type": "code",
   "execution_count": 2,
   "metadata": {},
   "outputs": [
    {
     "data": {
      "text/html": [
       "<div>\n",
       "<style scoped>\n",
       "    .dataframe tbody tr th:only-of-type {\n",
       "        vertical-align: middle;\n",
       "    }\n",
       "\n",
       "    .dataframe tbody tr th {\n",
       "        vertical-align: top;\n",
       "    }\n",
       "\n",
       "    .dataframe thead th {\n",
       "        text-align: right;\n",
       "    }\n",
       "</style>\n",
       "<table border=\"1\" class=\"dataframe\">\n",
       "  <thead>\n",
       "    <tr style=\"text-align: right;\">\n",
       "      <th></th>\n",
       "      <th>Age</th>\n",
       "      <th>Height</th>\n",
       "      <th>Weight</th>\n",
       "      <th>Bmi</th>\n",
       "      <th>BmiClass</th>\n",
       "    </tr>\n",
       "  </thead>\n",
       "  <tbody>\n",
       "    <tr>\n",
       "      <th>0</th>\n",
       "      <td>61</td>\n",
       "      <td>1.85</td>\n",
       "      <td>109.30</td>\n",
       "      <td>31.935720</td>\n",
       "      <td>Obese Class 1</td>\n",
       "    </tr>\n",
       "    <tr>\n",
       "      <th>1</th>\n",
       "      <td>60</td>\n",
       "      <td>1.71</td>\n",
       "      <td>79.02</td>\n",
       "      <td>27.023700</td>\n",
       "      <td>Overweight</td>\n",
       "    </tr>\n",
       "    <tr>\n",
       "      <th>2</th>\n",
       "      <td>60</td>\n",
       "      <td>1.55</td>\n",
       "      <td>74.70</td>\n",
       "      <td>31.092612</td>\n",
       "      <td>Obese Class 1</td>\n",
       "    </tr>\n",
       "    <tr>\n",
       "      <th>3</th>\n",
       "      <td>60</td>\n",
       "      <td>1.46</td>\n",
       "      <td>35.90</td>\n",
       "      <td>16.841809</td>\n",
       "      <td>Underweight</td>\n",
       "    </tr>\n",
       "    <tr>\n",
       "      <th>4</th>\n",
       "      <td>60</td>\n",
       "      <td>1.58</td>\n",
       "      <td>97.10</td>\n",
       "      <td>38.896010</td>\n",
       "      <td>Obese Class 2</td>\n",
       "    </tr>\n",
       "    <tr>\n",
       "      <th>5</th>\n",
       "      <td>59</td>\n",
       "      <td>1.71</td>\n",
       "      <td>79.32</td>\n",
       "      <td>27.126295</td>\n",
       "      <td>Overweight</td>\n",
       "    </tr>\n",
       "    <tr>\n",
       "      <th>6</th>\n",
       "      <td>59</td>\n",
       "      <td>1.70</td>\n",
       "      <td>73.32</td>\n",
       "      <td>25.370242</td>\n",
       "      <td>Overweight</td>\n",
       "    </tr>\n",
       "    <tr>\n",
       "      <th>7</th>\n",
       "      <td>59</td>\n",
       "      <td>1.72</td>\n",
       "      <td>85.32</td>\n",
       "      <td>28.839913</td>\n",
       "      <td>Overweight</td>\n",
       "    </tr>\n",
       "    <tr>\n",
       "      <th>8</th>\n",
       "      <td>59</td>\n",
       "      <td>1.46</td>\n",
       "      <td>36.00</td>\n",
       "      <td>16.888722</td>\n",
       "      <td>Underweight</td>\n",
       "    </tr>\n",
       "    <tr>\n",
       "      <th>9</th>\n",
       "      <td>59</td>\n",
       "      <td>1.83</td>\n",
       "      <td>104.70</td>\n",
       "      <td>31.263997</td>\n",
       "      <td>Obese Class 1</td>\n",
       "    </tr>\n",
       "  </tbody>\n",
       "</table>\n",
       "</div>"
      ],
      "text/plain": [
       "   Age  Height  Weight        Bmi       BmiClass\n",
       "0   61    1.85  109.30  31.935720  Obese Class 1\n",
       "1   60    1.71   79.02  27.023700     Overweight\n",
       "2   60    1.55   74.70  31.092612  Obese Class 1\n",
       "3   60    1.46   35.90  16.841809    Underweight\n",
       "4   60    1.58   97.10  38.896010  Obese Class 2\n",
       "5   59    1.71   79.32  27.126295     Overweight\n",
       "6   59    1.70   73.32  25.370242     Overweight\n",
       "7   59    1.72   85.32  28.839913     Overweight\n",
       "8   59    1.46   36.00  16.888722    Underweight\n",
       "9   59    1.83  104.70  31.263997  Obese Class 1"
      ]
     },
     "execution_count": 2,
     "metadata": {},
     "output_type": "execute_result"
    }
   ],
   "source": [
    "df=pd.read_csv('BMI.csv')\n",
    "df.head(10)"
   ]
  },
  {
   "cell_type": "code",
   "execution_count": 3,
   "metadata": {},
   "outputs": [
    {
     "name": "stdout",
     "output_type": "stream",
     "text": [
      "<class 'pandas.core.frame.DataFrame'>\n",
      "RangeIndex: 741 entries, 0 to 740\n",
      "Data columns (total 5 columns):\n",
      " #   Column    Non-Null Count  Dtype  \n",
      "---  ------    --------------  -----  \n",
      " 0   Age       741 non-null    int64  \n",
      " 1   Height    741 non-null    float64\n",
      " 2   Weight    741 non-null    float64\n",
      " 3   Bmi       741 non-null    float64\n",
      " 4   BmiClass  741 non-null    object \n",
      "dtypes: float64(3), int64(1), object(1)\n",
      "memory usage: 29.1+ KB\n"
     ]
    }
   ],
   "source": [
    "df.info()"
   ]
  },
  {
   "cell_type": "code",
   "execution_count": 4,
   "metadata": {},
   "outputs": [
    {
     "data": {
      "text/plain": [
       "array(['Obese Class 1', 'Overweight', 'Underweight', 'Obese Class 2',\n",
       "       'Obese Class 3', 'Normal Weight'], dtype=object)"
      ]
     },
     "execution_count": 4,
     "metadata": {},
     "output_type": "execute_result"
    }
   ],
   "source": [
    "df['BmiClass'].unique()"
   ]
  },
  {
   "cell_type": "code",
   "execution_count": 5,
   "metadata": {},
   "outputs": [
    {
     "data": {
      "image/png": "[encoded data removed]",
      "text/plain": [
       "<Figure size 576x432 with 1 Axes>"
      ]
     },
     "metadata": {
      "needs_background": "light"
     },
     "output_type": "display_data"
    }
   ],
   "source": [
    "# Create a count plot\n",
    "plt.figure(figsize=(8, 6))  # Set the figure size\n",
    "sns.countplot(data=df, x='BmiClass', palette='Set3')\n",
    "plt.title('Count Plot of BMI Class')\n",
    "plt.xlabel('BMI Class')\n",
    "plt.ylabel('Count')\n",
    "plt.xticks(rotation=45)\n",
    "\n",
    "# Show the plot\n",
    "plt.show()"
   ]
  },
  {
   "cell_type": "code",
   "execution_count": 6,
   "metadata": {},
   "outputs": [
    {
     "data": {
      "image/png": "[encoded data removed]",
      "text/plain": [
       "<Figure size 576x432 with 1 Axes>"
      ]
     },
     "metadata": {
      "needs_background": "light"
     },
     "output_type": "display_data"
    }
   ],
   "source": [
    "plt.figure(figsize=(8, 6))  # Set the figure size\n",
    "sns.boxplot(data=df, x='BmiClass',y='Age', palette='Set3')\n",
    "plt.title('Age Distribution by BMI Class')\n",
    "plt.xlabel('BMI Class')\n",
    "plt.ylabel('Age')\n",
    "plt.xticks(rotation=45)\n",
    "\n",
    "# Show the plot\n",
    "plt.show()"
   ]
  },
  {
   "cell_type": "code",
   "execution_count": 7,
   "metadata": {},
   "outputs": [
    {
     "data": {
      "image/png": "[encoded data removed]",
      "text/plain": [
       "<Figure size 576x432 with 1 Axes>"
      ]
     },
     "metadata": {
      "needs_background": "light"
     },
     "output_type": "display_data"
    }
   ],
   "source": [
    "plt.figure(figsize=(8, 6))  # Set the figure size\n",
    "sns.boxplot(data=df, x='BmiClass',y='Height', palette='Set3')\n",
    "plt.title('Height Distribution by BMI Class')\n",
    "plt.xlabel('BMI Class')\n",
    "plt.ylabel('Height')\n",
    "plt.xticks(rotation=45)\n",
    "\n",
    "# Show the plot\n",
    "plt.show()"
   ]
  },
  {
   "cell_type": "code",
   "execution_count": 8,
   "metadata": {},
   "outputs": [
    {
     "data": {
      "image/png": "[encoded data removed]",
      "text/plain": [
       "<Figure size 576x432 with 1 Axes>"
      ]
     },
     "metadata": {
      "needs_background": "light"
     },
     "output_type": "display_data"
    }
   ],
   "source": [
    "plt.figure(figsize=(8, 6))  # Set the figure size\n",
    "sns.boxplot(data=df, x='BmiClass',y='Weight', palette='Set3')\n",
    "plt.title('Weight Distribution by BMI Class')\n",
    "plt.xlabel('BMI Class')\n",
    "plt.ylabel('Weight')\n",
    "plt.xticks(rotation=45)\n",
    "\n",
    "# Show the plot\n",
    "plt.show()"
   ]
  },
  {
   "cell_type": "code",
   "execution_count": 9,
   "metadata": {},
   "outputs": [
    {
     "data": {
      "image/png": "[encoded data removed]",
      "text/plain": [
       "<Figure size 576x432 with 1 Axes>"
      ]
     },
     "metadata": {
      "needs_background": "light"
     },
     "output_type": "display_data"
    }
   ],
   "source": [
    "plt.figure(figsize=(8, 6))  # Set the figure size\n",
    "sns.scatterplot(data=df, x='Age',y='Weight',marker='o', color='b', palette='Set3')\n",
    "plt.title('Weight Distribution by Age')\n",
    "plt.xlabel('Age')\n",
    "plt.ylabel('Weight')\n",
    "\n",
    "# Show the plot\n",
    "plt.show()"
   ]
  },
  {
   "cell_type": "code",
   "execution_count": 10,
   "metadata": {},
   "outputs": [
    {
     "data": {
      "text/plain": [
       "BinaryEncoder(base=2, cols=['BmiClass'], drop_invariant=False,\n",
       "              handle_missing='value', handle_unknown='value', mapping=None,\n",
       "              return_df=True, verbose=0)"
      ]
     },
     "execution_count": 10,
     "metadata": {},
     "output_type": "execute_result"
    }
   ],
   "source": [
    "encoder=ce.BinaryEncoder(cols=['BmiClass'])\n",
    "encoder"
   ]
  },
  {
   "cell_type": "code",
   "execution_count": 11,
   "metadata": {},
   "outputs": [],
   "source": [
    "df_encoded=encoder.fit_transform(df)"
   ]
  },
  {
   "cell_type": "code",
   "execution_count": 12,
   "metadata": {},
   "outputs": [
    {
     "data": {
      "text/plain": [
       "BinaryEncoder(base=2, cols=['BmiClass'], drop_invariant=False,\n",
       "              handle_missing='value', handle_unknown='value',\n",
       "              mapping=[{'col': 'BmiClass',\n",
       "                        'mapping':     BmiClass_0  BmiClass_1  BmiClass_2\n",
       " 1           0           0           1\n",
       " 2           0           1           0\n",
       " 3           0           1           1\n",
       " 4           1           0           0\n",
       " 5           1           0           1\n",
       " 6           1           1           0\n",
       "-1           0           0           0\n",
       "-2           0           0           0}],\n",
       "              return_df=True, verbose=0)"
      ]
     },
     "execution_count": 12,
     "metadata": {},
     "output_type": "execute_result"
    }
   ],
   "source": [
    "encoder"
   ]
  },
  {
   "cell_type": "code",
   "execution_count": 13,
   "metadata": {},
   "outputs": [
    {
     "data": {
      "text/html": [
       "<div>\n",
       "<style scoped>\n",
       "    .dataframe tbody tr th:only-of-type {\n",
       "        vertical-align: middle;\n",
       "    }\n",
       "\n",
       "    .dataframe tbody tr th {\n",
       "        vertical-align: top;\n",
       "    }\n",
       "\n",
       "    .dataframe thead th {\n",
       "        text-align: right;\n",
       "    }\n",
       "</style>\n",
       "<table border=\"1\" class=\"dataframe\">\n",
       "  <thead>\n",
       "    <tr style=\"text-align: right;\">\n",
       "      <th></th>\n",
       "      <th>Age</th>\n",
       "      <th>Height</th>\n",
       "      <th>Weight</th>\n",
       "      <th>Bmi</th>\n",
       "      <th>BmiClass_0</th>\n",
       "      <th>BmiClass_1</th>\n",
       "      <th>BmiClass_2</th>\n",
       "    </tr>\n",
       "  </thead>\n",
       "  <tbody>\n",
       "    <tr>\n",
       "      <th>0</th>\n",
       "      <td>61</td>\n",
       "      <td>1.85</td>\n",
       "      <td>109.30</td>\n",
       "      <td>31.935720</td>\n",
       "      <td>0</td>\n",
       "      <td>0</td>\n",
       "      <td>1</td>\n",
       "    </tr>\n",
       "    <tr>\n",
       "      <th>1</th>\n",
       "      <td>60</td>\n",
       "      <td>1.71</td>\n",
       "      <td>79.02</td>\n",
       "      <td>27.023700</td>\n",
       "      <td>0</td>\n",
       "      <td>1</td>\n",
       "      <td>0</td>\n",
       "    </tr>\n",
       "    <tr>\n",
       "      <th>2</th>\n",
       "      <td>60</td>\n",
       "      <td>1.55</td>\n",
       "      <td>74.70</td>\n",
       "      <td>31.092612</td>\n",
       "      <td>0</td>\n",
       "      <td>0</td>\n",
       "      <td>1</td>\n",
       "    </tr>\n",
       "    <tr>\n",
       "      <th>3</th>\n",
       "      <td>60</td>\n",
       "      <td>1.46</td>\n",
       "      <td>35.90</td>\n",
       "      <td>16.841809</td>\n",
       "      <td>0</td>\n",
       "      <td>1</td>\n",
       "      <td>1</td>\n",
       "    </tr>\n",
       "    <tr>\n",
       "      <th>4</th>\n",
       "      <td>60</td>\n",
       "      <td>1.58</td>\n",
       "      <td>97.10</td>\n",
       "      <td>38.896010</td>\n",
       "      <td>1</td>\n",
       "      <td>0</td>\n",
       "      <td>0</td>\n",
       "    </tr>\n",
       "    <tr>\n",
       "      <th>...</th>\n",
       "      <td>...</td>\n",
       "      <td>...</td>\n",
       "      <td>...</td>\n",
       "      <td>...</td>\n",
       "      <td>...</td>\n",
       "      <td>...</td>\n",
       "      <td>...</td>\n",
       "    </tr>\n",
       "    <tr>\n",
       "      <th>736</th>\n",
       "      <td>34</td>\n",
       "      <td>1.86</td>\n",
       "      <td>95.70</td>\n",
       "      <td>27.662157</td>\n",
       "      <td>0</td>\n",
       "      <td>1</td>\n",
       "      <td>0</td>\n",
       "    </tr>\n",
       "    <tr>\n",
       "      <th>737</th>\n",
       "      <td>44</td>\n",
       "      <td>1.91</td>\n",
       "      <td>106.90</td>\n",
       "      <td>29.302925</td>\n",
       "      <td>0</td>\n",
       "      <td>1</td>\n",
       "      <td>0</td>\n",
       "    </tr>\n",
       "    <tr>\n",
       "      <th>738</th>\n",
       "      <td>25</td>\n",
       "      <td>1.82</td>\n",
       "      <td>88.40</td>\n",
       "      <td>26.687598</td>\n",
       "      <td>0</td>\n",
       "      <td>1</td>\n",
       "      <td>0</td>\n",
       "    </tr>\n",
       "    <tr>\n",
       "      <th>739</th>\n",
       "      <td>35</td>\n",
       "      <td>1.88</td>\n",
       "      <td>98.50</td>\n",
       "      <td>27.868945</td>\n",
       "      <td>0</td>\n",
       "      <td>1</td>\n",
       "      <td>0</td>\n",
       "    </tr>\n",
       "    <tr>\n",
       "      <th>740</th>\n",
       "      <td>45</td>\n",
       "      <td>1.93</td>\n",
       "      <td>109.90</td>\n",
       "      <td>29.504148</td>\n",
       "      <td>0</td>\n",
       "      <td>1</td>\n",
       "      <td>0</td>\n",
       "    </tr>\n",
       "  </tbody>\n",
       "</table>\n",
       "<p>741 rows × 7 columns</p>\n",
       "</div>"
      ],
      "text/plain": [
       "     Age  Height  Weight        Bmi  BmiClass_0  BmiClass_1  BmiClass_2\n",
       "0     61    1.85  109.30  31.935720           0           0           1\n",
       "1     60    1.71   79.02  27.023700           0           1           0\n",
       "2     60    1.55   74.70  31.092612           0           0           1\n",
       "3     60    1.46   35.90  16.841809           0           1           1\n",
       "4     60    1.58   97.10  38.896010           1           0           0\n",
       "..   ...     ...     ...        ...         ...         ...         ...\n",
       "736   34    1.86   95.70  27.662157           0           1           0\n",
       "737   44    1.91  106.90  29.302925           0           1           0\n",
       "738   25    1.82   88.40  26.687598           0           1           0\n",
       "739   35    1.88   98.50  27.868945           0           1           0\n",
       "740   45    1.93  109.90  29.504148           0           1           0\n",
       "\n",
       "[741 rows x 7 columns]"
      ]
     },
     "execution_count": 13,
     "metadata": {},
     "output_type": "execute_result"
    }
   ],
   "source": [
    "df_encoded"
   ]
  },
  {
   "cell_type": "code",
   "execution_count": 14,
   "metadata": {},
   "outputs": [],
   "source": [
    "binary_column_names=['BmiClass_0','BmiClass_1','BmiClass_2']\n",
    "df_encoded['Encoded BMI Class'] = df_encoded[binary_column_names].apply(lambda row: ''.join(map(str, row)), axis=1)"
   ]
  },
  {
   "cell_type": "code",
   "execution_count": 15,
   "metadata": {},
   "outputs": [],
   "source": [
    "df_encoded.drop(['BmiClass_0','BmiClass_1','BmiClass_2'],axis=1,inplace=True)"
   ]
  },
  {
   "cell_type": "code",
   "execution_count": 16,
   "metadata": {},
   "outputs": [
    {
     "name": "stdout",
     "output_type": "stream",
     "text": [
      "<class 'pandas.core.frame.DataFrame'>\n",
      "RangeIndex: 741 entries, 0 to 740\n",
      "Data columns (total 5 columns):\n",
      " #   Column             Non-Null Count  Dtype  \n",
      "---  ------             --------------  -----  \n",
      " 0   Age                741 non-null    int64  \n",
      " 1   Height             741 non-null    float64\n",
      " 2   Weight             741 non-null    float64\n",
      " 3   Bmi                741 non-null    float64\n",
      " 4   Encoded BMI Class  741 non-null    object \n",
      "dtypes: float64(3), int64(1), object(1)\n",
      "memory usage: 29.1+ KB\n"
     ]
    }
   ],
   "source": [
    "df_encoded.info()"
   ]
  },
  {
   "cell_type": "code",
   "execution_count": 17,
   "metadata": {},
   "outputs": [
    {
     "data": {
      "text/html": [
       "<div>\n",
       "<style scoped>\n",
       "    .dataframe tbody tr th:only-of-type {\n",
       "        vertical-align: middle;\n",
       "    }\n",
       "\n",
       "    .dataframe tbody tr th {\n",
       "        vertical-align: top;\n",
       "    }\n",
       "\n",
       "    .dataframe thead th {\n",
       "        text-align: right;\n",
       "    }\n",
       "</style>\n",
       "<table border=\"1\" class=\"dataframe\">\n",
       "  <thead>\n",
       "    <tr style=\"text-align: right;\">\n",
       "      <th></th>\n",
       "      <th>Age</th>\n",
       "      <th>Height</th>\n",
       "      <th>Weight</th>\n",
       "      <th>Bmi</th>\n",
       "      <th>Encoded BMI Class</th>\n",
       "    </tr>\n",
       "  </thead>\n",
       "  <tbody>\n",
       "    <tr>\n",
       "      <th>0</th>\n",
       "      <td>61</td>\n",
       "      <td>1.85</td>\n",
       "      <td>109.30</td>\n",
       "      <td>31.935720</td>\n",
       "      <td>001</td>\n",
       "    </tr>\n",
       "    <tr>\n",
       "      <th>1</th>\n",
       "      <td>60</td>\n",
       "      <td>1.71</td>\n",
       "      <td>79.02</td>\n",
       "      <td>27.023700</td>\n",
       "      <td>010</td>\n",
       "    </tr>\n",
       "    <tr>\n",
       "      <th>2</th>\n",
       "      <td>60</td>\n",
       "      <td>1.55</td>\n",
       "      <td>74.70</td>\n",
       "      <td>31.092612</td>\n",
       "      <td>001</td>\n",
       "    </tr>\n",
       "    <tr>\n",
       "      <th>3</th>\n",
       "      <td>60</td>\n",
       "      <td>1.46</td>\n",
       "      <td>35.90</td>\n",
       "      <td>16.841809</td>\n",
       "      <td>011</td>\n",
       "    </tr>\n",
       "    <tr>\n",
       "      <th>4</th>\n",
       "      <td>60</td>\n",
       "      <td>1.58</td>\n",
       "      <td>97.10</td>\n",
       "      <td>38.896010</td>\n",
       "      <td>100</td>\n",
       "    </tr>\n",
       "    <tr>\n",
       "      <th>...</th>\n",
       "      <td>...</td>\n",
       "      <td>...</td>\n",
       "      <td>...</td>\n",
       "      <td>...</td>\n",
       "      <td>...</td>\n",
       "    </tr>\n",
       "    <tr>\n",
       "      <th>736</th>\n",
       "      <td>34</td>\n",
       "      <td>1.86</td>\n",
       "      <td>95.70</td>\n",
       "      <td>27.662157</td>\n",
       "      <td>010</td>\n",
       "    </tr>\n",
       "    <tr>\n",
       "      <th>737</th>\n",
       "      <td>44</td>\n",
       "      <td>1.91</td>\n",
       "      <td>106.90</td>\n",
       "      <td>29.302925</td>\n",
       "      <td>010</td>\n",
       "    </tr>\n",
       "    <tr>\n",
       "      <th>738</th>\n",
       "      <td>25</td>\n",
       "      <td>1.82</td>\n",
       "      <td>88.40</td>\n",
       "      <td>26.687598</td>\n",
       "      <td>010</td>\n",
       "    </tr>\n",
       "    <tr>\n",
       "      <th>739</th>\n",
       "      <td>35</td>\n",
       "      <td>1.88</td>\n",
       "      <td>98.50</td>\n",
       "      <td>27.868945</td>\n",
       "      <td>010</td>\n",
       "    </tr>\n",
       "    <tr>\n",
       "      <th>740</th>\n",
       "      <td>45</td>\n",
       "      <td>1.93</td>\n",
       "      <td>109.90</td>\n",
       "      <td>29.504148</td>\n",
       "      <td>010</td>\n",
       "    </tr>\n",
       "  </tbody>\n",
       "</table>\n",
       "<p>741 rows × 5 columns</p>\n",
       "</div>"
      ],
      "text/plain": [
       "     Age  Height  Weight        Bmi Encoded BMI Class\n",
       "0     61    1.85  109.30  31.935720               001\n",
       "1     60    1.71   79.02  27.023700               010\n",
       "2     60    1.55   74.70  31.092612               001\n",
       "3     60    1.46   35.90  16.841809               011\n",
       "4     60    1.58   97.10  38.896010               100\n",
       "..   ...     ...     ...        ...               ...\n",
       "736   34    1.86   95.70  27.662157               010\n",
       "737   44    1.91  106.90  29.302925               010\n",
       "738   25    1.82   88.40  26.687598               010\n",
       "739   35    1.88   98.50  27.868945               010\n",
       "740   45    1.93  109.90  29.504148               010\n",
       "\n",
       "[741 rows x 5 columns]"
      ]
     },
     "execution_count": 17,
     "metadata": {},
     "output_type": "execute_result"
    }
   ],
   "source": [
    "df_encoded"
   ]
  },
  {
   "cell_type": "code",
   "execution_count": 18,
   "metadata": {},
   "outputs": [
    {
     "name": "stdout",
     "output_type": "stream",
     "text": [
      "     Age  Height  Weight        Bmi\n",
      "0     61    1.85  109.30  31.935720\n",
      "1     60    1.71   79.02  27.023700\n",
      "2     60    1.55   74.70  31.092612\n",
      "3     60    1.46   35.90  16.841809\n",
      "4     60    1.58   97.10  38.896010\n",
      "..   ...     ...     ...        ...\n",
      "736   34    1.86   95.70  27.662157\n",
      "737   44    1.91  106.90  29.302925\n",
      "738   25    1.82   88.40  26.687598\n",
      "739   35    1.88   98.50  27.868945\n",
      "740   45    1.93  109.90  29.504148\n",
      "\n",
      "[741 rows x 4 columns]\n",
      "0      001\n",
      "1      010\n",
      "2      001\n",
      "3      011\n",
      "4      100\n",
      "      ... \n",
      "736    010\n",
      "737    010\n",
      "738    010\n",
      "739    010\n",
      "740    010\n",
      "Name: Encoded BMI Class, Length: 741, dtype: object\n"
     ]
    }
   ],
   "source": [
    "x=df_encoded.drop('Encoded BMI Class',axis=1)\n",
    "y=df_encoded['Encoded BMI Class']\n",
    "print(x)\n",
    "print(y)"
   ]
  },
  {
   "cell_type": "code",
   "execution_count": 19,
   "metadata": {},
   "outputs": [
    {
     "name": "stdout",
     "output_type": "stream",
     "text": [
      "(592, 4)\n",
      "(149, 4)\n",
      "(592,)\n",
      "(149,)\n"
     ]
    }
   ],
   "source": [
    "x_train,x_test,y_train,y_test=train_test_split(x,y,test_size=0.2)\n",
    "print(x_train.shape)\n",
    "print(x_test.shape)\n",
    "print(y_train.shape)\n",
    "print(y_test.shape)"
   ]
  },
  {
   "cell_type": "code",
   "execution_count": 20,
   "metadata": {},
   "outputs": [
    {
     "name": "stdout",
     "output_type": "stream",
     "text": [
      "['011' '110' '011' '110' '110' '010' '110' '011' '011' '010' '010' '110'\n",
      " '110' '110' '100' '110' '110' '010' '110' '010' '001' '010' '110' '110'\n",
      " '110' '110' '110' '110' '010' '110' '110' '110' '101' '110' '100' '110'\n",
      " '110' '001' '011' '110' '110' '110' '110' '110' '011' '110' '110' '011'\n",
      " '100' '011' '110' '001' '110' '010' '100' '010' '011' '010' '011' '110'\n",
      " '110' '110' '011' '010' '110' '110' '110' '110' '010' '110' '100' '110'\n",
      " '110' '101' '110' '010' '010' '110' '110' '110' '010' '011' '011' '011'\n",
      " '100' '110' '101' '010' '110' '110' '110' '010' '010' '011' '101' '110'\n",
      " '011' '011' '110' '010' '101' '011' '101' '101' '011' '110' '110' '010'\n",
      " '110' '110' '110' '110' '100' '100' '110' '011' '110' '010' '100' '101'\n",
      " '110' '010' '010' '001' '110' '110' '110' '110' '110' '011' '010' '100'\n",
      " '010' '110' '010' '010' '110' '110' '010' '110' '010' '110' '110' '110'\n",
      " '101' '110' '010' '010' '110']\n",
      "0.9932885906040269\n"
     ]
    }
   ],
   "source": [
    "from sklearn.tree import DecisionTreeClassifier\n",
    "from sklearn.metrics import accuracy_score\n",
    "\n",
    "# Create and train the model\n",
    "model = DecisionTreeClassifier()\n",
    "model.fit(x_train, y_train)\n",
    "\n",
    "# Make predictions\n",
    "dt_y_pred = model.predict(x_test)\n",
    "\n",
    "# Calculate accuracy\n",
    "dt_accuracy = accuracy_score(y_test, dt_y_pred)\n",
    "print(dt_y_pred)\n",
    "print(dt_accuracy)"
   ]
  },
  {
   "cell_type": "code",
   "execution_count": 21,
   "metadata": {},
   "outputs": [
    {
     "name": "stdout",
     "output_type": "stream",
     "text": [
      "['011' '110' '011' '110' '110' '010' '110' '011' '011' '010' '010' '110'\n",
      " '110' '110' '100' '110' '110' '010' '110' '010' '001' '010' '110' '110'\n",
      " '110' '110' '110' '110' '010' '110' '110' '110' '101' '110' '100' '110'\n",
      " '110' '001' '011' '110' '110' '110' '110' '110' '011' '110' '110' '011'\n",
      " '100' '011' '110' '001' '110' '010' '100' '010' '011' '010' '011' '110'\n",
      " '110' '110' '011' '010' '110' '110' '110' '110' '010' '110' '100' '110'\n",
      " '110' '101' '110' '010' '010' '110' '110' '110' '010' '011' '011' '011'\n",
      " '100' '110' '101' '010' '110' '110' '110' '010' '010' '011' '101' '110'\n",
      " '011' '011' '110' '010' '101' '011' '101' '101' '011' '110' '110' '010'\n",
      " '110' '110' '110' '110' '100' '100' '110' '011' '110' '010' '100' '101'\n",
      " '110' '010' '010' '001' '110' '110' '110' '110' '110' '011' '010' '100'\n",
      " '010' '110' '010' '010' '110' '110' '010' '110' '010' '110' '110' '110'\n",
      " '101' '110' '010' '010' '110']\n",
      "0.9932885906040269\n"
     ]
    }
   ],
   "source": [
    "from sklearn.ensemble import RandomForestClassifier\n",
    "from sklearn.metrics import accuracy_score\n",
    "\n",
    "# Create and train the model\n",
    "model = RandomForestClassifier()\n",
    "model.fit(x_train, y_train)\n",
    "\n",
    "# Make predictions\n",
    "rfc_y_pred = model.predict(x_test)\n",
    "\n",
    "# Calculate accuracy\n",
    "rfc_accuracy = accuracy_score(y_test, rfc_y_pred)\n",
    "\n",
    "print(rfc_y_pred)\n",
    "print(rfc_accuracy)"
   ]
  },
  {
   "cell_type": "code",
   "execution_count": 22,
   "metadata": {},
   "outputs": [
    {
     "name": "stdout",
     "output_type": "stream",
     "text": [
      "['011' '110' '011' '110' '110' '110' '110' '011' '011' '010' '010' '110'\n",
      " '110' '110' '010' '110' '110' '110' '010' '010' '010' '010' '110' '110'\n",
      " '110' '110' '110' '110' '010' '110' '110' '110' '100' '110' '100' '110'\n",
      " '110' '100' '110' '110' '110' '110' '110' '110' '011' '110' '110' '011'\n",
      " '100' '011' '110' '100' '110' '010' '100' '110' '011' '010' '011' '110'\n",
      " '110' '110' '011' '110' '110' '110' '110' '110' '010' '110' '100' '110'\n",
      " '110' '101' '110' '010' '010' '110' '110' '110' '010' '110' '011' '011'\n",
      " '100' '110' '101' '110' '110' '110' '110' '110' '010' '011' '101' '110'\n",
      " '011' '011' '110' '010' '101' '011' '101' '101' '011' '110' '010' '010'\n",
      " '110' '110' '110' '110' '101' '100' '110' '011' '110' '110' '100' '100'\n",
      " '110' '110' '010' '010' '110' '110' '110' '110' '110' '011' '010' '100'\n",
      " '110' '110' '010' '010' '110' '110' '010' '110' '010' '110' '110' '110'\n",
      " '101' '110' '010' '010' '110']\n",
      "0.8590604026845637\n"
     ]
    }
   ],
   "source": [
    "from sklearn.svm import SVC\n",
    "from sklearn.metrics import accuracy_score\n",
    "\n",
    "# Create and train the model\n",
    "model = SVC()\n",
    "model.fit(x_train, y_train)\n",
    "\n",
    "# Make predictions\n",
    "svc_y_pred = model.predict(x_test)\n",
    "\n",
    "# Calculate accuracy\n",
    "svc_accuracy = accuracy_score(y_test, svc_y_pred)\n",
    "\n",
    "print(svc_y_pred)\n",
    "print(svc_accuracy)"
   ]
  },
  {
   "cell_type": "code",
   "execution_count": 23,
   "metadata": {},
   "outputs": [
    {
     "name": "stdout",
     "output_type": "stream",
     "text": [
      "['011' '110' '011' '110' '110' '110' '110' '011' '011' '010' '010' '110'\n",
      " '110' '110' '001' '110' '110' '110' '110' '010' '001' '010' '110' '110'\n",
      " '110' '110' '110' '110' '110' '110' '110' '110' '100' '110' '100' '110'\n",
      " '110' '010' '011' '110' '110' '110' '110' '110' '011' '110' '110' '011'\n",
      " '100' '011' '110' '010' '110' '010' '100' '010' '011' '010' '011' '110'\n",
      " '110' '110' '011' '110' '110' '110' '110' '110' '010' '110' '100' '110'\n",
      " '110' '101' '110' '010' '010' '110' '110' '110' '010' '110' '011' '011'\n",
      " '001' '110' '101' '010' '110' '110' '110' '010' '010' '011' '101' '110'\n",
      " '011' '011' '110' '010' '101' '011' '101' '100' '011' '110' '110' '010'\n",
      " '110' '110' '110' '110' '100' '100' '110' '011' '110' '010' '100' '100'\n",
      " '110' '110' '110' '010' '110' '110' '110' '110' '110' '011' '010' '100'\n",
      " '110' '110' '010' '010' '010' '110' '010' '110' '010' '110' '110' '110'\n",
      " '101' '110' '010' '010' '110']\n",
      "0.8791946308724832\n"
     ]
    }
   ],
   "source": [
    "from sklearn.neighbors import KNeighborsClassifier\n",
    "from sklearn.metrics import accuracy_score\n",
    "\n",
    "# Create and train the model\n",
    "model = KNeighborsClassifier()\n",
    "model.fit(x_train, y_train)\n",
    "\n",
    "# Make predictions\n",
    "knn_y_pred = model.predict(x_test)\n",
    "\n",
    "# Calculate accuracy\n",
    "knn_accuracy = accuracy_score(y_test, knn_y_pred)\n",
    "\n",
    "print(knn_y_pred)\n",
    "print(knn_accuracy)"
   ]
  },
  {
   "cell_type": "code",
   "execution_count": 24,
   "metadata": {},
   "outputs": [
    {
     "name": "stdout",
     "output_type": "stream",
     "text": [
      "['011' '110' '011' '110' '110' '010' '110' '011' '011' '010' '010' '110'\n",
      " '110' '110' '010' '110' '110' '010' '110' '010' '010' '010' '110' '110'\n",
      " '110' '110' '110' '110' '010' '110' '110' '110' '101' '110' '010' '110'\n",
      " '110' '010' '011' '110' '110' '110' '110' '110' '011' '110' '110' '011'\n",
      " '010' '011' '110' '010' '110' '010' '010' '010' '011' '010' '011' '110'\n",
      " '110' '110' '011' '010' '110' '110' '110' '110' '010' '110' '010' '110'\n",
      " '110' '101' '110' '010' '010' '110' '110' '110' '010' '011' '011' '011'\n",
      " '010' '110' '101' '010' '110' '110' '110' '010' '010' '011' '101' '110'\n",
      " '011' '011' '110' '010' '101' '011' '101' '101' '011' '110' '110' '010'\n",
      " '110' '110' '110' '110' '010' '010' '110' '011' '110' '010' '010' '101'\n",
      " '110' '010' '010' '010' '110' '110' '110' '110' '110' '011' '010' '010'\n",
      " '010' '110' '010' '010' '110' '110' '010' '110' '010' '110' '110' '110'\n",
      " '101' '110' '010' '010' '110']\n",
      "0.9060402684563759\n"
     ]
    }
   ],
   "source": [
    "from sklearn.ensemble import AdaBoostClassifier\n",
    "from sklearn.metrics import accuracy_score\n",
    "\n",
    "# Create and train the model\n",
    "base_model = DecisionTreeClassifier(max_depth=1)\n",
    "model = AdaBoostClassifier(base_model, n_estimators=50)\n",
    "model.fit(x_train, y_train)\n",
    "\n",
    "# Make predictions\n",
    "ada_y_pred = model.predict(x_test)\n",
    "\n",
    "# Calculate accuracy\n",
    "ada_accuracy = accuracy_score(y_test, ada_y_pred)\n",
    "\n",
    "print(ada_y_pred)\n",
    "print(ada_accuracy)"
   ]
  },
  {
   "cell_type": "code",
   "execution_count": null,
   "metadata": {},
   "outputs": [],
   "source": []
  }
 ],
 "metadata": {
  "kernelspec": {
   "display_name": "Python 3",
   "language": "python",
   "name": "python3"
  },
  "language_info": {
   "codemirror_mode": {
    "name": "ipython",
    "version": 3
   },
   "file_extension": ".py",
   "mimetype": "text/x-python",
   "name": "python",
   "nbconvert_exporter": "python",
   "pygments_lexer": "ipython3",
   "version": "3.8.10"
  },
  "orig_nbformat": 4
 },
 "nbformat": 4,
 "nbformat_minor": 2
}
